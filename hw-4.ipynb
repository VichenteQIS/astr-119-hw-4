{
 "cells": [
  {
   "cell_type": "markdown",
   "metadata": {},
   "source": [
    "# 1) Write a jupyter notebook to perform Bisection Search root finding. Numerically find the two roots of the function: \n",
    "<h1><center>$f(x)=1.01x^2 - 3.04x + 2.07$</center></h1>\n",
    "\n",
    "# Use a tolerance of $1.0 e^{-6} $ for the allowed deviation of $f(x)$ from 0"
   ]
  },
  {
   "cell_type": "code",
   "execution_count": null,
   "metadata": {},
   "outputs": [],
   "source": [
    "%matplotlib inline\n",
    "import numpy as np\n",
    "import matplotlib.pyplot as plt"
   ]
  },
  {
   "cell_type": "markdown",
   "metadata": {},
   "source": [
    "## Define a function to find a root of"
   ]
  },
  {
   "cell_type": "code",
   "execution_count": null,
   "metadata": {},
   "outputs": [],
   "source": [
    "def func(x):\n",
    "    a = 1.01\n",
    "    b = -3.04\n",
    "    c = 2.07\n",
    "    return a*x**2 + b*x +c #quadratic"
   ]
  },
  {
   "cell_type": "markdown",
   "metadata": {},
   "source": [
    "## We need a function to check our initial guesses"
   ]
  },
  {
   "cell_type": "code",
   "execution_count": null,
   "metadata": {},
   "outputs": [],
   "source": [
    "def check_initial_values(f, x_min, x_max, tol):\n",
    "    \n",
    "    #check our initial guesses\n",
    "    y_min = f(x_min)\n",
    "    y_max = f(x_max)\n",
    "    \n",
    "    #check that x_min and x_max contain a zero crossing\n",
    "    if(y_min*y_max>=0.0):\n",
    "        print(\"No zero crossing found in the range = \",x_min,x_max)\n",
    "        s = \"f(%f) = %f, f(%f) = %f\" % (x_min,y_min,x_max,y_max)\n",
    "        print(s)\n",
    "        return 0\n",
    "    \n",
    "    #if x_min is a root, then return flag == 1\n",
    "    if(np.fabs(y_min)<tol):\n",
    "        return 1\n",
    "    \n",
    "    #if x_max is a root, then return flag == 2\n",
    "    if(np.fabs(y_max)<tol):\n",
    "        return 2\n",
    "    \n",
    "    #if we reach this point, the bracket is valid\n",
    "    #and we will return 3\n",
    "    return 3"
   ]
  },
  {
   "cell_type": "markdown",
   "metadata": {},
   "source": [
    "## Now we will define the main work function that performs the bisection search\n"
   ]
  },
  {
   "cell_type": "code",
   "execution_count": null,
   "metadata": {},
   "outputs": [],
   "source": [
    "def bisection_root_finding(f, x_min_start, x_max_start, tol):\n",
    "    \n",
    "    #this function uses bisection search to find a root\n",
    "    \n",
    "    x_min = x_min_start #minimun x in bracket\n",
    "    x_max = x_max_start #maximun x in bracket\n",
    "    x_mid = 0.0 #mid pointr of the bracket\n",
    "    \n",
    "    y_min = f(x_min) #function value at x_min\n",
    "    y_max = f(x_max) #function value at x_max\n",
    "    y_mid = 0.0 #function value at mid point\n",
    "    \n",
    "    imax = 1000 #max number of iterations\n",
    "    i = 0\n",
    "    #check the initial values\n",
    "    flag = check_initial_values(f, x_min, x_max, tol)\n",
    "    \n",
    "    if(flag==0):\n",
    "        print(\"Error in bisection_root_finding\")\n",
    "        raise ValueError('Initial values invalid', x_min, x_max)\n",
    "    elif(flag==1):\n",
    "        #lucky guess\n",
    "        return x_min\n",
    "    elif(flag==2):\n",
    "        #another lucky guess\n",
    "        return x_max\n",
    "    \n",
    "    #if we reach here, then we need to conduct the search\n",
    "    \n",
    "    #set flag\n",
    "    flag = 1\n",
    "    \n",
    "    #enter a whilee loop\n",
    "    while(flag):\n",
    "        x_mid = 0.5*(x_min + x_max) #mid point\n",
    "        y_mid = f(x_mid) #value of y at mid point\n",
    "        \n",
    "        #check if x_mid is a root\n",
    "        if(np.fabs(y_mid)<tol):\n",
    "            flag = 0\n",
    "        \n",
    "        else:\n",
    "            #x_mid is not a root\n",
    "            \n",
    "            #if the product of the function at midpoint \n",
    "            #and at one of the end points is greater than\n",
    "            # zero, replace this end point\n",
    "            if(f(x_min)*f(x_mid)>0):\n",
    "                #replace x_min with x_mid\n",
    "                x_min = x_mid\n",
    "            else:\n",
    "                #replace x_max with x_mid\n",
    "                x_max = x_mid\n",
    "                \n",
    "        #print out the iteration\n",
    "        print(x_min,f(x_min),x_max,f(x_max))\n",
    "        \n",
    "        #count the iteration\n",
    "        i += 1\n",
    "        print(\"Number of iterations =\", i)\n",
    "        #if we have exceeded the max number\n",
    "        #of iterations, then exit\n",
    "        if(i>=imax):\n",
    "            print(\"Exceed max number of iterations = \",i)\n",
    "            s = \"Min bracket f(%f) = %15.14e\" % (x_min,f(x_min))\n",
    "            print(s)\n",
    "            s = \"Max bracket f(%f) = %15.14e\" % (x_max,f(x_max))\n",
    "            print(s)\n",
    "            s = \"Mid bracket f(%f) = %15.14e\" % (x_mid,f(x_mid))\n",
    "            print(s)\n",
    "            raise StopIteration('Stopping iterations after',i)\n",
    "    #outside the whilelopp iteration\n",
    "    #we are done!\n",
    "    return x_mid"
   ]
  },
  {
   "cell_type": "markdown",
   "metadata": {},
   "source": [
    "## Perform the search\n"
   ]
  },
  {
   "cell_type": "code",
   "execution_count": null,
   "metadata": {},
   "outputs": [],
   "source": [
    "x_min = 0.0\n",
    "x_max = 1.9\n",
    "tolerance = 1.0e-6\n",
    "\n",
    "#print the initial guess\n",
    "print(x_min, func(x_min))\n",
    "print(x_max, func(x_max))\n",
    "\n",
    "#perform the search\n",
    "x_root = bisection_root_finding(func,x_min,x_max,tolerance)\n",
    "y_root = func(x_root)\n",
    "s = \"Root found with y(%f) = %f\" % (x_root,y_root)\n",
    "\n",
    "print(s)"
   ]
  },
  {
   "cell_type": "markdown",
   "metadata": {},
   "source": [
    "# 2) Given your starting guesses for the bracketing values around the roots, how many iterations does your method take to converge?"
   ]
  },
  {
   "cell_type": "markdown",
   "metadata": {},
   "source": [
    "It took 20 iterations with $x_{min} = 0.0$ and $x_{max} = 1.9$\n"
   ]
  },
  {
   "cell_type": "markdown",
   "metadata": {},
   "source": [
    "# 3) Have your notebook make a plot of $ f(x) vs. x $ as a line, and indicated with differently colored points your initial bracketing values and the roots. In the plot, use limits of $x=[0,3]$ and $y=[-0.5, 2.1]$. Add a horizontal line at $z=0$. Plot $f(x)$ at a $1000$ evenly spaced values of $x=[0,3]$."
   ]
  },
  {
   "cell_type": "code",
   "execution_count": null,
   "metadata": {},
   "outputs": [],
   "source": [
    "y_min = func(x_min)\n",
    "y_max = func(x_max)\n",
    "y_root = func(x_root)\n",
    "x = np.arange(0,3,3/1000) #create x=[0,...,3] \n",
    "y = func(x)\n",
    "z = 0 * x\n",
    "plt.plot(x,y,label=\"$f(x)$\")\n",
    "plt.plot(x,z,label=\"$z = 0$\")\n",
    "plt.scatter(x_min,y_min,color=\"Purple\",label=\"$x_{min}$\")\n",
    "plt.scatter(x_max,y_max,color=\"Red\",label=\"$x_{max}$\")\n",
    "plt.scatter(x_root,y_root,color=\"black\",label=\"$x_{intersection}$\")\n",
    "plt.xlim([0,3]) \n",
    "plt.ylim([-0.5,2.1])\n",
    "plt.legend(loc=0, frameon=False)"
   ]
  },
  {
   "cell_type": "code",
   "execution_count": null,
   "metadata": {},
   "outputs": [],
   "source": []
  }
 ],
 "metadata": {
  "kernelspec": {
   "display_name": "Python 3",
   "language": "python",
   "name": "python3"
  },
  "language_info": {
   "codemirror_mode": {
    "name": "ipython",
    "version": 3
   },
   "file_extension": ".py",
   "mimetype": "text/x-python",
   "name": "python",
   "nbconvert_exporter": "python",
   "pygments_lexer": "ipython3",
   "version": "3.7.6"
  }
 },
 "nbformat": 4,
 "nbformat_minor": 4
}
